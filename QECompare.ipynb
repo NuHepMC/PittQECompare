{
 "cells": [
  {
   "cell_type": "code",
   "execution_count": 1,
   "id": "060a5dc9-e3c0-4b39-a7cb-433648d12f11",
   "metadata": {},
   "outputs": [
    {
     "name": "stdout",
     "output_type": "stream",
     "text": [
      "Welcome to JupyROOT 6.30/04\n"
     ]
    }
   ],
   "source": [
    "import numpy as np\n",
    "import matplotlib.pyplot as plt\n",
    "\n",
    "import pyNUISANCE as pn\n",
    "import pyProSelecta as pps"
   ]
  },
  {
   "cell_type": "code",
   "execution_count": 2,
   "id": "d5abd378-4255-48bb-abd5-a0cd1e6d6f99",
   "metadata": {},
   "outputs": [
    {
     "name": "stdout",
     "output_type": "stream",
     "text": [
      "env: NUISANCE3_ROOT=\"/Users/juliatenavidal/Desktop/Postdoc/Tensions/nuisance3-src/build\"\n"
     ]
    }
   ],
   "source": [
    "%env NUISANCE3_ROOT=\"/Users/juliatenavidal/Desktop/Postdoc/Tensions/nuisance3-src/build\""
   ]
  },
  {
   "cell_type": "code",
   "execution_count": null,
   "id": "00daa621-a89a-4570-8850-49914ec08ca0",
   "metadata": {},
   "outputs": [],
   "source": [
    "#For electrons:\n",
    "achilles_ep_500 = pn.EventSource(\"Achilles/electron_500.hepmc\")\n",
    "achilles_ep_1000 = pn.EventSource(\"Achilles/electron_1000.hepmc\")\n",
    "achilles_ep_2000 = pn.EventSource(\"Achilles/electron_2000.hepmc\")\n",
    "\n",
    "genie_ep_500 = pn.EventSource(\"GENIE/e_on_1000010010_500MeV_0.hepmc3\")\n",
    "genie_ep_1000 = pn.EventSource(\"GENIE/e_on_1000010010_1000MeV_0.hepmc3\")\n",
    "genie_ep_2000 = pn.EventSource(\"GENIE/e_on_1000010010_2000MeV_0.hepmc3\")\n",
    "\n",
    "gibuu_ep_500 = pn.EventSource(\"Gibuu/EventOutput_e500MeV.Pert.hepmc3\")\n",
    "\n",
    "# For neutrinos:\n",
    "achilles_nub_500 = pn.EventSource(\"Achilles/electron_500.hepmc\")\n",
    "achilles_nub_1000 = pn.EventSource(\"Achilles/electron_1000.hepmc\")\n",
    "achilles_nub_2000 = pn.EventSource(\"Achilles/electron_2000.hepmc\")\n",
    "\n",
    "#genie_nub_500 = pn.EventSource(\"GENIE/CCQE_nuebar_G18_10a_02_11a_0p5GeV.ghep.root\")\n",
    "#genie_nub_1000 = pn.EventSource(\"GENIE/CCQE_nuebar_G18_10a_02_11a_1GeV.ghep.root\")\n",
    "#genie_nub_2000 = pn.EventSource(\"GENIE/CCQE_nuebar_G18_10a_02_11a_2GeV.ghep.root\")\n",
    "\n",
    "neut_nub_500 = pn.EventSource(\"NEUT/NEUT_nieves_1.05_nueb_CH2_0.5GeV.nuis.root.GenericVectors.root\")\n",
    "neut_nub_500 = pn.EventSource(\"NEUT/NEUT_nieves_1.05_nueb_CH2_1GeV.nuis.root.GenericVectors.root\")\n",
    "neut_nub_500 = pn.EventSource(\"NEUT/NEUT_nieves_1.05_nueb_CH2_2GeV.nuis.root.GenericVectors.root\")"
   ]
  },
  {
   "cell_type": "code",
   "execution_count": null,
   "id": "e713a8c6-9f82-4c19-9071-d1367d57c691",
   "metadata": {},
   "outputs": [],
   "source": [
    "def calc_q2(ev):\n",
    "    val = [pps.kMissingDatum]\n",
    "    \n",
    "    if pps.event.has_beam_part(ev, 11):\n",
    "        mom0 = np.array([pps.event.beam_part(ev, 11).momentum().e() / pps.unit.GeV,\n",
    "                         pps.event.beam_part(ev, 11).momentum().px() / pps.unit.GeV,\n",
    "                         pps.event.beam_part(ev, 11).momentum().py() / pps.unit.GeV,\n",
    "                         pps.event.beam_part(ev, 11).momentum().pz() / pps.unit.GeV])\n",
    "        \n",
    "    if pps.event.has_out_part(ev, 11):\n",
    "        mom1 = np.array([pps.event.hm_out_part(ev, 11).momentum().e() / pps.unit.GeV,\n",
    "                         pps.event.hm_out_part(ev, 11).momentum().px() / pps.unit.GeV,\n",
    "                         pps.event.hm_out_part(ev, 11).momentum().py() / pps.unit.GeV,\n",
    "                         pps.event.hm_out_part(ev, 11).momentum().pz() / pps.unit.GeV])\n",
    "\n",
    "    val = (mom0 - mom1)\n",
    "    val = -(val[0]**2-val[1]**2-val[2]**2-val[3]**2)\n",
    "    \n",
    "    return [val]"
   ]
  },
  {
   "cell_type": "code",
   "execution_count": null,
   "id": "617e360c-ba59-42f8-80ee-f24e838834a9",
   "metadata": {},
   "outputs": [],
   "source": [
    "pb_to_nb = 1/1000\n",
    "\n",
    "def compare(achilles, genie, title=None, qmin=0, qmax=2, nbins=100, name=\"test\"):\n",
    "    achilles_ev_frame = pn.EventFrameGen(achilles).add_columns([\"Q2\"], calc_q2).all()\n",
    "    genie_ev_frame = pn.EventFrameGen(genie).add_columns([\"Q2\"], calc_q2).all()\n",
    "\n",
    "    achilles_hist = pn.HistFrame(pn.Binning.lin_spaceND([[qmin, qmax, nbins]], [r'$Q^2$ [GeV]']))\n",
    "    achilles_hist.fill_from_EventFrame(achilles_ev_frame, [\"Q2\"])\n",
    "    achilles_hist = achilles_hist.finalise().scale(achilles_ev_frame.norm_info().fatx_per_sumweights() * pb_to_nb)\n",
    "    achilles_hist.mpl().hist_all(histtype=\"step\", labels=['Achilles'])\n",
    "\n",
    "    genie_hist = pn.HistFrame(pn.Binning.lin_spaceND([[qmin, qmax, nbins]], [r'$Q^2$ [GeV]']))\n",
    "    genie_hist.fill_from_EventFrame(genie_ev_frame, [\"Q2\"])\n",
    "    genie_hist = genie_hist.finalise()\n",
    "    print(genie_ev_frame.norm_info().fatx_per_sumweights())\n",
    "    #.scale(genie_ev_frame.norm_info().fatx_per_sumweights() * pb_to_nb)\n",
    "    genie_hist.mpl().hist_all(histtype=\"step\", labels=['Genie'])\n",
    "\n",
    "    if title:\n",
    "        plt.title(title)\n",
    "\n",
    "    plt.legend()\n",
    "    plt.savefig(f\"{name}.pdf\", bbox_inches=\"tight\")\n",
    "    plt.show()"
   ]
  },
  {
   "cell_type": "code",
   "execution_count": null,
   "id": "31e0ce8c-d812-4aa1-a3ca-2f58a22c8c96",
   "metadata": {},
   "outputs": [],
   "source": [
    "compare(achilles_ep_500, genie_ep_500, title=\"500 MeV\", qmin=0, qmax=2, nbins=200, name=\"electron_500MeV\")"
   ]
  },
  {
   "cell_type": "code",
   "execution_count": null,
   "id": "37515d29-3813-40ee-9e1a-a146818ff861",
   "metadata": {},
   "outputs": [],
   "source": [
    "print(achilles_ev_frame.norm_info().fatx, achilles_ev_frame.norm_info().sumweights, achilles_ev_frame.norm_info().nevents)"
   ]
  },
  {
   "cell_type": "code",
   "execution_count": null,
   "id": "90f31dc4-7b0e-4c8d-ba99-125f67d5afd0",
   "metadata": {},
   "outputs": [],
   "source": []
  },
  {
   "cell_type": "code",
   "execution_count": null,
   "id": "b09521d4-290d-4aa2-b1cc-7812d9954474",
   "metadata": {},
   "outputs": [],
   "source": []
  }
 ],
 "metadata": {
  "kernelspec": {
   "display_name": "Python 3 (ipykernel)",
   "language": "python",
   "name": "python3"
  },
  "language_info": {
   "codemirror_mode": {
    "name": "ipython",
    "version": 3
   },
   "file_extension": ".py",
   "mimetype": "text/x-python",
   "name": "python",
   "nbconvert_exporter": "python",
   "pygments_lexer": "ipython3",
   "version": "3.9.18"
  }
 },
 "nbformat": 4,
 "nbformat_minor": 5
}
